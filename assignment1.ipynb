{
 "cells": [
  {
   "cell_type": "code",
   "execution_count": null,
   "id": "35f61060",
   "metadata": {},
   "outputs": [],
   "source": [
    "1.write a python program to print \"hello python\"?"
   ]
  },
  {
   "cell_type": "code",
   "execution_count": 1,
   "id": "da111e74",
   "metadata": {},
   "outputs": [
    {
     "name": "stdout",
     "output_type": "stream",
     "text": [
      "Hello python\n"
     ]
    }
   ],
   "source": [
    "print(\"Hello python\")"
   ]
  },
  {
   "cell_type": "code",
   "execution_count": null,
   "id": "fd7702df",
   "metadata": {},
   "outputs": [],
   "source": [
    "2.write a python program to do arithematical operations addition and division?"
   ]
  },
  {
   "cell_type": "code",
   "execution_count": 2,
   "id": "3c124d02",
   "metadata": {},
   "outputs": [
    {
     "name": "stdout",
     "output_type": "stream",
     "text": [
      "10\n",
      "1.5\n"
     ]
    }
   ],
   "source": [
    "a = 6\n",
    "b = 4 \n",
    "# addition\n",
    "print(a+b)\n",
    "\n",
    "#division\n",
    "print(a/b)"
   ]
  },
  {
   "cell_type": "code",
   "execution_count": null,
   "id": "a3d22913",
   "metadata": {},
   "outputs": [],
   "source": [
    "3.write a python program to find the area of the triangle?"
   ]
  },
  {
   "cell_type": "code",
   "execution_count": 3,
   "id": "033509f0",
   "metadata": {},
   "outputs": [
    {
     "name": "stdout",
     "output_type": "stream",
     "text": [
      "Area of the triangle = 250.0\n"
     ]
    }
   ],
   "source": [
    "height = 25\n",
    "base = 20\n",
    "\n",
    "area = height * base/2\n",
    "print(\"Area of the triangle =\",area)"
   ]
  },
  {
   "cell_type": "code",
   "execution_count": null,
   "id": "25ed3987",
   "metadata": {},
   "outputs": [],
   "source": [
    "4.write a python program to swap two variables?"
   ]
  },
  {
   "cell_type": "code",
   "execution_count": 4,
   "id": "55b7a887",
   "metadata": {},
   "outputs": [
    {
     "name": "stdout",
     "output_type": "stream",
     "text": [
      "before swap:\n",
      " a = 25 and b = 50\n",
      "\n",
      "after swap:\n",
      " a =50 and b =25\n"
     ]
    }
   ],
   "source": [
    "a = 25\n",
    "b = 50\n",
    "\n",
    "print('before swap:\\n a = {} and b = {}'.format(a , b))\n",
    "\n",
    "temp = a\n",
    "a = b\n",
    "b = temp\n",
    "\n",
    "print('\\nafter swap:\\n a ={} and b ={}'.format(a, b))"
   ]
  },
  {
   "cell_type": "raw",
   "id": "ed5c1cfa",
   "metadata": {},
   "source": [
    "5.write a python program to generate random no?"
   ]
  },
  {
   "cell_type": "code",
   "execution_count": 5,
   "id": "35f331f6",
   "metadata": {},
   "outputs": [
    {
     "name": "stdout",
     "output_type": "stream",
     "text": [
      "0.49716343519055084\n",
      "47\n"
     ]
    }
   ],
   "source": [
    "import random\n",
    "\n",
    "print(random.random())\n",
    "print(random.randint(1,50))"
   ]
  },
  {
   "cell_type": "code",
   "execution_count": null,
   "id": "d8849cce",
   "metadata": {},
   "outputs": [],
   "source": []
  }
 ],
 "metadata": {
  "kernelspec": {
   "display_name": "Python 3 (ipykernel)",
   "language": "python",
   "name": "python3"
  },
  "language_info": {
   "codemirror_mode": {
    "name": "ipython",
    "version": 3
   },
   "file_extension": ".py",
   "mimetype": "text/x-python",
   "name": "python",
   "nbconvert_exporter": "python",
   "pygments_lexer": "ipython3",
   "version": "3.9.12"
  }
 },
 "nbformat": 4,
 "nbformat_minor": 5
}
